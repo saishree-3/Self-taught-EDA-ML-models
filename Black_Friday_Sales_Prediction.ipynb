{
  "nbformat": 4,
  "nbformat_minor": 0,
  "metadata": {
    "colab": {
      "name": "Black Friday Sales Prediction.ipynb",
      "provenance": [],
      "collapsed_sections": []
    },
    "kernelspec": {
      "name": "python3",
      "display_name": "Python 3"
    }
  },
  "cells": [
    {
      "cell_type": "markdown",
      "metadata": {
        "id": "JgbfeUAQAhXr"
      },
      "source": [
        "## PART - 1. Import"
      ]
    },
    {
      "cell_type": "markdown",
      "metadata": {
        "id": "eMut33C3AnWm"
      },
      "source": [
        "**Importing Libraries**"
      ]
    },
    {
      "cell_type": "code",
      "metadata": {
        "id": "upYaeswF_LQf"
      },
      "source": [
        "import pandas as pd\n",
        "import numpy as np\n",
        "\n",
        "import matplotlib.pyplot as plt\n",
        "import seaborn as sns\n",
        "\n",
        "import warnings \n",
        "warnings.filterwarnings(action='ignore')\n",
        "\n",
        "from sklearn.metrics import r2_score, mean_squared_error, mean_absolute_error"
      ],
      "execution_count": 212,
      "outputs": []
    },
    {
      "cell_type": "markdown",
      "metadata": {
        "id": "l_xpq9NqAqeH"
      },
      "source": [
        "**Importing Dataset**"
      ]
    },
    {
      "cell_type": "code",
      "metadata": {
        "id": "zGpm00frAti-",
        "outputId": "0ffaa0f4-be56-4db0-d532-209cf2109661",
        "colab": {
          "base_uri": "https://localhost:8080/",
          "height": 288
        }
      },
      "source": [
        "df = pd.read_csv('blackFriday_train.csv')\n",
        "df.head()\n"
      ],
      "execution_count": 213,
      "outputs": [
        {
          "output_type": "execute_result",
          "data": {
            "text/html": [
              "<div>\n",
              "<style scoped>\n",
              "    .dataframe tbody tr th:only-of-type {\n",
              "        vertical-align: middle;\n",
              "    }\n",
              "\n",
              "    .dataframe tbody tr th {\n",
              "        vertical-align: top;\n",
              "    }\n",
              "\n",
              "    .dataframe thead th {\n",
              "        text-align: right;\n",
              "    }\n",
              "</style>\n",
              "<table border=\"1\" class=\"dataframe\">\n",
              "  <thead>\n",
              "    <tr style=\"text-align: right;\">\n",
              "      <th></th>\n",
              "      <th>User_ID</th>\n",
              "      <th>Product_ID</th>\n",
              "      <th>Gender</th>\n",
              "      <th>Age</th>\n",
              "      <th>Occupation</th>\n",
              "      <th>City_Category</th>\n",
              "      <th>Stay_In_Current_City_Years</th>\n",
              "      <th>Marital_Status</th>\n",
              "      <th>Product_Category_1</th>\n",
              "      <th>Product_Category_2</th>\n",
              "      <th>Product_Category_3</th>\n",
              "      <th>Purchase</th>\n",
              "    </tr>\n",
              "  </thead>\n",
              "  <tbody>\n",
              "    <tr>\n",
              "      <th>0</th>\n",
              "      <td>1000001</td>\n",
              "      <td>P00069042</td>\n",
              "      <td>F</td>\n",
              "      <td>0-17</td>\n",
              "      <td>10</td>\n",
              "      <td>A</td>\n",
              "      <td>2</td>\n",
              "      <td>0</td>\n",
              "      <td>3</td>\n",
              "      <td>NaN</td>\n",
              "      <td>NaN</td>\n",
              "      <td>8370</td>\n",
              "    </tr>\n",
              "    <tr>\n",
              "      <th>1</th>\n",
              "      <td>1000001</td>\n",
              "      <td>P00248942</td>\n",
              "      <td>F</td>\n",
              "      <td>0-17</td>\n",
              "      <td>10</td>\n",
              "      <td>A</td>\n",
              "      <td>2</td>\n",
              "      <td>0</td>\n",
              "      <td>1</td>\n",
              "      <td>6.0</td>\n",
              "      <td>14.0</td>\n",
              "      <td>15200</td>\n",
              "    </tr>\n",
              "    <tr>\n",
              "      <th>2</th>\n",
              "      <td>1000001</td>\n",
              "      <td>P00087842</td>\n",
              "      <td>F</td>\n",
              "      <td>0-17</td>\n",
              "      <td>10</td>\n",
              "      <td>A</td>\n",
              "      <td>2</td>\n",
              "      <td>0</td>\n",
              "      <td>12</td>\n",
              "      <td>NaN</td>\n",
              "      <td>NaN</td>\n",
              "      <td>1422</td>\n",
              "    </tr>\n",
              "    <tr>\n",
              "      <th>3</th>\n",
              "      <td>1000001</td>\n",
              "      <td>P00085442</td>\n",
              "      <td>F</td>\n",
              "      <td>0-17</td>\n",
              "      <td>10</td>\n",
              "      <td>A</td>\n",
              "      <td>2</td>\n",
              "      <td>0</td>\n",
              "      <td>12</td>\n",
              "      <td>14.0</td>\n",
              "      <td>NaN</td>\n",
              "      <td>1057</td>\n",
              "    </tr>\n",
              "    <tr>\n",
              "      <th>4</th>\n",
              "      <td>1000002</td>\n",
              "      <td>P00285442</td>\n",
              "      <td>M</td>\n",
              "      <td>55+</td>\n",
              "      <td>16</td>\n",
              "      <td>C</td>\n",
              "      <td>4+</td>\n",
              "      <td>0</td>\n",
              "      <td>8</td>\n",
              "      <td>NaN</td>\n",
              "      <td>NaN</td>\n",
              "      <td>7969</td>\n",
              "    </tr>\n",
              "  </tbody>\n",
              "</table>\n",
              "</div>"
            ],
            "text/plain": [
              "   User_ID Product_ID Gender  ... Product_Category_2  Product_Category_3 Purchase\n",
              "0  1000001  P00069042      F  ...                NaN                 NaN     8370\n",
              "1  1000001  P00248942      F  ...                6.0                14.0    15200\n",
              "2  1000001  P00087842      F  ...                NaN                 NaN     1422\n",
              "3  1000001  P00085442      F  ...               14.0                 NaN     1057\n",
              "4  1000002  P00285442      M  ...                NaN                 NaN     7969\n",
              "\n",
              "[5 rows x 12 columns]"
            ]
          },
          "metadata": {
            "tags": []
          },
          "execution_count": 213
        }
      ]
    },
    {
      "cell_type": "code",
      "metadata": {
        "id": "rnNLbD-gUdDJ"
      },
      "source": [
        "df.drop(columns = ['User_ID', 'Product_ID'], inplace = True)"
      ],
      "execution_count": 214,
      "outputs": []
    },
    {
      "cell_type": "code",
      "metadata": {
        "id": "FN5tfVHcA6CL",
        "outputId": "f094945b-7d4b-4084-c42a-c77a2b649c6e",
        "colab": {
          "base_uri": "https://localhost:8080/",
          "height": 290
        }
      },
      "source": [
        "desc = df.describe()\n",
        "desc"
      ],
      "execution_count": 215,
      "outputs": [
        {
          "output_type": "execute_result",
          "data": {
            "text/html": [
              "<div>\n",
              "<style scoped>\n",
              "    .dataframe tbody tr th:only-of-type {\n",
              "        vertical-align: middle;\n",
              "    }\n",
              "\n",
              "    .dataframe tbody tr th {\n",
              "        vertical-align: top;\n",
              "    }\n",
              "\n",
              "    .dataframe thead th {\n",
              "        text-align: right;\n",
              "    }\n",
              "</style>\n",
              "<table border=\"1\" class=\"dataframe\">\n",
              "  <thead>\n",
              "    <tr style=\"text-align: right;\">\n",
              "      <th></th>\n",
              "      <th>Occupation</th>\n",
              "      <th>Marital_Status</th>\n",
              "      <th>Product_Category_1</th>\n",
              "      <th>Product_Category_2</th>\n",
              "      <th>Product_Category_3</th>\n",
              "      <th>Purchase</th>\n",
              "    </tr>\n",
              "  </thead>\n",
              "  <tbody>\n",
              "    <tr>\n",
              "      <th>count</th>\n",
              "      <td>550068.000000</td>\n",
              "      <td>550068.000000</td>\n",
              "      <td>550068.000000</td>\n",
              "      <td>376430.000000</td>\n",
              "      <td>166821.000000</td>\n",
              "      <td>550068.000000</td>\n",
              "    </tr>\n",
              "    <tr>\n",
              "      <th>mean</th>\n",
              "      <td>8.076707</td>\n",
              "      <td>0.409653</td>\n",
              "      <td>5.404270</td>\n",
              "      <td>9.842329</td>\n",
              "      <td>12.668243</td>\n",
              "      <td>9263.968713</td>\n",
              "    </tr>\n",
              "    <tr>\n",
              "      <th>std</th>\n",
              "      <td>6.522660</td>\n",
              "      <td>0.491770</td>\n",
              "      <td>3.936211</td>\n",
              "      <td>5.086590</td>\n",
              "      <td>4.125338</td>\n",
              "      <td>5023.065394</td>\n",
              "    </tr>\n",
              "    <tr>\n",
              "      <th>min</th>\n",
              "      <td>0.000000</td>\n",
              "      <td>0.000000</td>\n",
              "      <td>1.000000</td>\n",
              "      <td>2.000000</td>\n",
              "      <td>3.000000</td>\n",
              "      <td>12.000000</td>\n",
              "    </tr>\n",
              "    <tr>\n",
              "      <th>25%</th>\n",
              "      <td>2.000000</td>\n",
              "      <td>0.000000</td>\n",
              "      <td>1.000000</td>\n",
              "      <td>5.000000</td>\n",
              "      <td>9.000000</td>\n",
              "      <td>5823.000000</td>\n",
              "    </tr>\n",
              "    <tr>\n",
              "      <th>50%</th>\n",
              "      <td>7.000000</td>\n",
              "      <td>0.000000</td>\n",
              "      <td>5.000000</td>\n",
              "      <td>9.000000</td>\n",
              "      <td>14.000000</td>\n",
              "      <td>8047.000000</td>\n",
              "    </tr>\n",
              "    <tr>\n",
              "      <th>75%</th>\n",
              "      <td>14.000000</td>\n",
              "      <td>1.000000</td>\n",
              "      <td>8.000000</td>\n",
              "      <td>15.000000</td>\n",
              "      <td>16.000000</td>\n",
              "      <td>12054.000000</td>\n",
              "    </tr>\n",
              "    <tr>\n",
              "      <th>max</th>\n",
              "      <td>20.000000</td>\n",
              "      <td>1.000000</td>\n",
              "      <td>20.000000</td>\n",
              "      <td>18.000000</td>\n",
              "      <td>18.000000</td>\n",
              "      <td>23961.000000</td>\n",
              "    </tr>\n",
              "  </tbody>\n",
              "</table>\n",
              "</div>"
            ],
            "text/plain": [
              "          Occupation  Marital_Status  ...  Product_Category_3       Purchase\n",
              "count  550068.000000   550068.000000  ...       166821.000000  550068.000000\n",
              "mean        8.076707        0.409653  ...           12.668243    9263.968713\n",
              "std         6.522660        0.491770  ...            4.125338    5023.065394\n",
              "min         0.000000        0.000000  ...            3.000000      12.000000\n",
              "25%         2.000000        0.000000  ...            9.000000    5823.000000\n",
              "50%         7.000000        0.000000  ...           14.000000    8047.000000\n",
              "75%        14.000000        1.000000  ...           16.000000   12054.000000\n",
              "max        20.000000        1.000000  ...           18.000000   23961.000000\n",
              "\n",
              "[8 rows x 6 columns]"
            ]
          },
          "metadata": {
            "tags": []
          },
          "execution_count": 215
        }
      ]
    },
    {
      "cell_type": "code",
      "metadata": {
        "id": "smDiBPJUBD59",
        "outputId": "0b74f4b7-8e4b-4dd8-e822-7f3e03843097",
        "colab": {
          "base_uri": "https://localhost:8080/",
          "height": 222
        }
      },
      "source": [
        "df.isnull().sum()"
      ],
      "execution_count": 268,
      "outputs": [
        {
          "output_type": "execute_result",
          "data": {
            "text/plain": [
              "Gender            0\n",
              "Age               0\n",
              "Occupation        0\n",
              "Stay              0\n",
              "Marital_Status    0\n",
              "cat1              0\n",
              "cat2              0\n",
              "cat3              0\n",
              "Purchase          0\n",
              "B                 0\n",
              "C                 0\n",
              "dtype: int64"
            ]
          },
          "metadata": {
            "tags": []
          },
          "execution_count": 268
        }
      ]
    },
    {
      "cell_type": "markdown",
      "metadata": {
        "id": "TVZ3t33aXH5q"
      },
      "source": [
        "**Observation:**\n",
        "- Missing values in columns - Product_Category_1 and Product_Category_2"
      ]
    },
    {
      "cell_type": "code",
      "metadata": {
        "id": "fQ7_kSSdBGNv",
        "outputId": "5343fece-eb20-482c-8606-86a485d1d0f3",
        "colab": {
          "base_uri": "https://localhost:8080/",
          "height": 188
        }
      },
      "source": [
        "for i in df.columns:\n",
        "  print (i, df[i].unique())"
      ],
      "execution_count": 217,
      "outputs": [
        {
          "output_type": "stream",
          "text": [
            "Gender ['F' 'M']\n",
            "Age ['0-17' '55+' '26-35' '46-50' '51-55' '36-45' '18-25']\n",
            "Occupation [10 16 15  7 20  9  1 12 17  0  3  4 11  8 19  2 18  5 14 13  6]\n",
            "City_Category ['A' 'C' 'B']\n",
            "Stay_In_Current_City_Years ['2' '4+' '3' '1' '0']\n",
            "Marital_Status [0 1]\n",
            "Product_Category_1 [ 3  1 12  8  5  4  2  6 14 11 13 15  7 16 18 10 17  9 20 19]\n",
            "Product_Category_2 [nan  6. 14.  2.  8. 15. 16. 11.  5.  3.  4. 12.  9. 10. 17. 13.  7. 18.]\n",
            "Product_Category_3 [nan 14. 17.  5.  4. 16. 15.  8.  9. 13.  6. 12.  3. 18. 11. 10.]\n",
            "Purchase [ 8370 15200  1422 ...   135   123   613]\n"
          ],
          "name": "stdout"
        }
      ]
    },
    {
      "cell_type": "markdown",
      "metadata": {
        "id": "ULrDFxQdVmUW"
      },
      "source": [
        "**Observation:**\n",
        "-  Every feature seem to be catogorical"
      ]
    },
    {
      "cell_type": "markdown",
      "metadata": {
        "id": "vvR3F3OvXVwI"
      },
      "source": [
        "## PART - 2. Data Preprocessing"
      ]
    },
    {
      "cell_type": "markdown",
      "metadata": {
        "id": "0aeCkY3gXdmY"
      },
      "source": [
        "**Imputing Missing Values**"
      ]
    },
    {
      "cell_type": "markdown",
      "metadata": {
        "id": "Z9BEmowDdhLb"
      },
      "source": [
        "Product_Category_2,3"
      ]
    },
    {
      "cell_type": "code",
      "metadata": {
        "id": "2jv4s9bCVMkj",
        "outputId": "ee47226a-d2be-4a29-f4a9-1f6d6e3e9be8",
        "colab": {
          "base_uri": "https://localhost:8080/",
          "height": 85
        }
      },
      "source": [
        "# we will rename the Product_Category_ columns for our convinience 😉\n",
        "df.rename(columns = {'Product_Category_1' : 'cat1', 'Product_Category_2' : 'cat2', 'Product_Category_3' : 'cat3'}, inplace = True)\n",
        "df.columns"
      ],
      "execution_count": 218,
      "outputs": [
        {
          "output_type": "execute_result",
          "data": {
            "text/plain": [
              "Index(['Gender', 'Age', 'Occupation', 'City_Category',\n",
              "       'Stay_In_Current_City_Years', 'Marital_Status', 'cat1', 'cat2', 'cat3',\n",
              "       'Purchase'],\n",
              "      dtype='object')"
            ]
          },
          "metadata": {
            "tags": []
          },
          "execution_count": 218
        }
      ]
    },
    {
      "cell_type": "code",
      "metadata": {
        "id": "oMUYY7LLY3C6",
        "outputId": "27ef437d-9d80-4a1c-ce40-09464dcfbc6d",
        "colab": {
          "base_uri": "https://localhost:8080/",
          "height": 51
        }
      },
      "source": [
        "df.cat1.unique()"
      ],
      "execution_count": 219,
      "outputs": [
        {
          "output_type": "execute_result",
          "data": {
            "text/plain": [
              "array([ 3,  1, 12,  8,  5,  4,  2,  6, 14, 11, 13, 15,  7, 16, 18, 10, 17,\n",
              "        9, 20, 19])"
            ]
          },
          "metadata": {
            "tags": []
          },
          "execution_count": 219
        }
      ]
    },
    {
      "cell_type": "code",
      "metadata": {
        "id": "G0CGrkFEY8yy",
        "outputId": "201aaa71-2d73-4319-9407-40fc5c4d7f30",
        "colab": {
          "base_uri": "https://localhost:8080/",
          "height": 51
        }
      },
      "source": [
        "df.cat2.unique()"
      ],
      "execution_count": 220,
      "outputs": [
        {
          "output_type": "execute_result",
          "data": {
            "text/plain": [
              "array([nan,  6., 14.,  2.,  8., 15., 16., 11.,  5.,  3.,  4., 12.,  9.,\n",
              "       10., 17., 13.,  7., 18.])"
            ]
          },
          "metadata": {
            "tags": []
          },
          "execution_count": 220
        }
      ]
    },
    {
      "cell_type": "code",
      "metadata": {
        "id": "2Mz94A0vY9cl",
        "outputId": "c7550e38-9899-4a75-9a23-8627a71933e4",
        "colab": {
          "base_uri": "https://localhost:8080/",
          "height": 51
        }
      },
      "source": [
        "df.cat3.unique()"
      ],
      "execution_count": 221,
      "outputs": [
        {
          "output_type": "execute_result",
          "data": {
            "text/plain": [
              "array([nan, 14., 17.,  5.,  4., 16., 15.,  8.,  9., 13.,  6., 12.,  3.,\n",
              "       18., 11., 10.])"
            ]
          },
          "metadata": {
            "tags": []
          },
          "execution_count": 221
        }
      ]
    },
    {
      "cell_type": "code",
      "metadata": {
        "id": "2Hx05YKNZSgr"
      },
      "source": [
        "df['cat2'] = df['cat2'].fillna(df.cat2.mode()[0])\n",
        "df['cat3'] = df['cat3'].fillna(df.cat3.mode()[0])"
      ],
      "execution_count": 222,
      "outputs": []
    },
    {
      "cell_type": "code",
      "metadata": {
        "id": "pjU9y4rvd0BV",
        "outputId": "321cc6aa-888f-4519-fbf8-de6597b8d12c",
        "colab": {
          "base_uri": "https://localhost:8080/",
          "height": 205
        }
      },
      "source": [
        "df.isnull().sum()"
      ],
      "execution_count": 223,
      "outputs": [
        {
          "output_type": "execute_result",
          "data": {
            "text/plain": [
              "Gender                        0\n",
              "Age                           0\n",
              "Occupation                    0\n",
              "City_Category                 0\n",
              "Stay_In_Current_City_Years    0\n",
              "Marital_Status                0\n",
              "cat1                          0\n",
              "cat2                          0\n",
              "cat3                          0\n",
              "Purchase                      0\n",
              "dtype: int64"
            ]
          },
          "metadata": {
            "tags": []
          },
          "execution_count": 223
        }
      ]
    },
    {
      "cell_type": "markdown",
      "metadata": {
        "id": "vtIB-rwSZ9Hw"
      },
      "source": [
        "All missing values successfully imputed!🎉"
      ]
    },
    {
      "cell_type": "markdown",
      "metadata": {
        "id": "XvFUlZhdYqPG"
      },
      "source": [
        "**Handling Categorical Features**"
      ]
    },
    {
      "cell_type": "markdown",
      "metadata": {
        "id": "adOFNdXZbFp7"
      },
      "source": [
        "Gender"
      ]
    },
    {
      "cell_type": "code",
      "metadata": {
        "id": "5kJmCgDdYj_T"
      },
      "source": [
        "df['Gender'] = df.Gender.map({'F':0, 'M':1})"
      ],
      "execution_count": 224,
      "outputs": []
    },
    {
      "cell_type": "markdown",
      "metadata": {
        "id": "xwK4yViDbQJ5"
      },
      "source": [
        "Age"
      ]
    },
    {
      "cell_type": "code",
      "metadata": {
        "id": "H7Fg_GY4bPH8"
      },
      "source": [
        "df['Age'] = df.Age.map({'0-17':1, '18-25':2, '26-35':3, '36-45':4, '46-50':5, '51-55':6, '55+':7 })"
      ],
      "execution_count": 225,
      "outputs": []
    },
    {
      "cell_type": "markdown",
      "metadata": {
        "id": "j6uuBcNacE-X"
      },
      "source": [
        "**Creating Dummies**"
      ]
    },
    {
      "cell_type": "markdown",
      "metadata": {
        "id": "UMGVH13pcHhY"
      },
      "source": [
        "City_Category"
      ]
    },
    {
      "cell_type": "code",
      "metadata": {
        "id": "uodPhb3nb6xP"
      },
      "source": [
        "city = pd.get_dummies(data = df.City_Category, drop_first = True)"
      ],
      "execution_count": 226,
      "outputs": []
    },
    {
      "cell_type": "code",
      "metadata": {
        "id": "jmDbNRCocfPg",
        "outputId": "40fcc4eb-2c00-4c21-a52d-1e977d1735d2",
        "colab": {
          "base_uri": "https://localhost:8080/",
          "height": 199
        }
      },
      "source": [
        "# Concatenate city to the main df\n",
        "#df.drop(columns = 'City_Category', inplace = True)\n",
        "df = pd.concat([df, city], axis = 1)\n",
        "df.head()"
      ],
      "execution_count": 227,
      "outputs": [
        {
          "output_type": "execute_result",
          "data": {
            "text/html": [
              "<div>\n",
              "<style scoped>\n",
              "    .dataframe tbody tr th:only-of-type {\n",
              "        vertical-align: middle;\n",
              "    }\n",
              "\n",
              "    .dataframe tbody tr th {\n",
              "        vertical-align: top;\n",
              "    }\n",
              "\n",
              "    .dataframe thead th {\n",
              "        text-align: right;\n",
              "    }\n",
              "</style>\n",
              "<table border=\"1\" class=\"dataframe\">\n",
              "  <thead>\n",
              "    <tr style=\"text-align: right;\">\n",
              "      <th></th>\n",
              "      <th>Gender</th>\n",
              "      <th>Age</th>\n",
              "      <th>Occupation</th>\n",
              "      <th>City_Category</th>\n",
              "      <th>Stay_In_Current_City_Years</th>\n",
              "      <th>Marital_Status</th>\n",
              "      <th>cat1</th>\n",
              "      <th>cat2</th>\n",
              "      <th>cat3</th>\n",
              "      <th>Purchase</th>\n",
              "      <th>B</th>\n",
              "      <th>C</th>\n",
              "    </tr>\n",
              "  </thead>\n",
              "  <tbody>\n",
              "    <tr>\n",
              "      <th>0</th>\n",
              "      <td>0</td>\n",
              "      <td>1</td>\n",
              "      <td>10</td>\n",
              "      <td>A</td>\n",
              "      <td>2</td>\n",
              "      <td>0</td>\n",
              "      <td>3</td>\n",
              "      <td>8.0</td>\n",
              "      <td>16.0</td>\n",
              "      <td>8370</td>\n",
              "      <td>0</td>\n",
              "      <td>0</td>\n",
              "    </tr>\n",
              "    <tr>\n",
              "      <th>1</th>\n",
              "      <td>0</td>\n",
              "      <td>1</td>\n",
              "      <td>10</td>\n",
              "      <td>A</td>\n",
              "      <td>2</td>\n",
              "      <td>0</td>\n",
              "      <td>1</td>\n",
              "      <td>6.0</td>\n",
              "      <td>14.0</td>\n",
              "      <td>15200</td>\n",
              "      <td>0</td>\n",
              "      <td>0</td>\n",
              "    </tr>\n",
              "    <tr>\n",
              "      <th>2</th>\n",
              "      <td>0</td>\n",
              "      <td>1</td>\n",
              "      <td>10</td>\n",
              "      <td>A</td>\n",
              "      <td>2</td>\n",
              "      <td>0</td>\n",
              "      <td>12</td>\n",
              "      <td>8.0</td>\n",
              "      <td>16.0</td>\n",
              "      <td>1422</td>\n",
              "      <td>0</td>\n",
              "      <td>0</td>\n",
              "    </tr>\n",
              "    <tr>\n",
              "      <th>3</th>\n",
              "      <td>0</td>\n",
              "      <td>1</td>\n",
              "      <td>10</td>\n",
              "      <td>A</td>\n",
              "      <td>2</td>\n",
              "      <td>0</td>\n",
              "      <td>12</td>\n",
              "      <td>14.0</td>\n",
              "      <td>16.0</td>\n",
              "      <td>1057</td>\n",
              "      <td>0</td>\n",
              "      <td>0</td>\n",
              "    </tr>\n",
              "    <tr>\n",
              "      <th>4</th>\n",
              "      <td>1</td>\n",
              "      <td>7</td>\n",
              "      <td>16</td>\n",
              "      <td>C</td>\n",
              "      <td>4+</td>\n",
              "      <td>0</td>\n",
              "      <td>8</td>\n",
              "      <td>8.0</td>\n",
              "      <td>16.0</td>\n",
              "      <td>7969</td>\n",
              "      <td>0</td>\n",
              "      <td>1</td>\n",
              "    </tr>\n",
              "  </tbody>\n",
              "</table>\n",
              "</div>"
            ],
            "text/plain": [
              "   Gender  Age  Occupation City_Category  ...  cat3  Purchase  B  C\n",
              "0       0    1          10             A  ...  16.0      8370  0  0\n",
              "1       0    1          10             A  ...  14.0     15200  0  0\n",
              "2       0    1          10             A  ...  16.0      1422  0  0\n",
              "3       0    1          10             A  ...  16.0      1057  0  0\n",
              "4       1    7          16             C  ...  16.0      7969  0  1\n",
              "\n",
              "[5 rows x 12 columns]"
            ]
          },
          "metadata": {
            "tags": []
          },
          "execution_count": 227
        }
      ]
    },
    {
      "cell_type": "markdown",
      "metadata": {
        "id": "FLE633txi-IQ"
      },
      "source": [
        "Stay_In_Current_City_Years"
      ]
    },
    {
      "cell_type": "code",
      "metadata": {
        "id": "Si61F0cCdB1L"
      },
      "source": [
        "df.rename(columns = {'Stay_In_Current_City_Years' : 'Stay'}, inplace = True) \n",
        "df['Stay'] = df['Stay'].str.replace('+','')\n"
      ],
      "execution_count": 228,
      "outputs": []
    },
    {
      "cell_type": "markdown",
      "metadata": {
        "id": "TsKSgfV0j-7R"
      },
      "source": [
        "**Checking the dtype of all over the dataset** before starting visualizing"
      ]
    },
    {
      "cell_type": "code",
      "metadata": {
        "id": "62KT6lPMj-NA",
        "outputId": "79d5028f-0ff2-4f3f-bd7b-23810cb36fd0",
        "colab": {
          "base_uri": "https://localhost:8080/",
          "height": 239
        }
      },
      "source": [
        "df.dtypes"
      ],
      "execution_count": 229,
      "outputs": [
        {
          "output_type": "execute_result",
          "data": {
            "text/plain": [
              "Gender              int64\n",
              "Age                 int64\n",
              "Occupation          int64\n",
              "City_Category      object\n",
              "Stay               object\n",
              "Marital_Status      int64\n",
              "cat1                int64\n",
              "cat2              float64\n",
              "cat3              float64\n",
              "Purchase            int64\n",
              "B                   uint8\n",
              "C                   uint8\n",
              "dtype: object"
            ]
          },
          "metadata": {
            "tags": []
          },
          "execution_count": 229
        }
      ]
    },
    {
      "cell_type": "code",
      "metadata": {
        "id": "0KZZwn5okO1x"
      },
      "source": [
        "df['Stay'] = df['Stay'].astype(str).astype(int)\n",
        "df['B'] = df['B'].astype(int)\n",
        "df['C'] = df['C'].astype(int)"
      ],
      "execution_count": 230,
      "outputs": []
    },
    {
      "cell_type": "markdown",
      "metadata": {
        "id": "AEbY-j5ZUkH5"
      },
      "source": [
        "## PART - 3. Explore, Visualize & Analyse"
      ]
    },
    {
      "cell_type": "markdown",
      "metadata": {
        "id": "8k2Iw_KXYMyw"
      },
      "source": [
        "**Analyse Purchase by Gender**"
      ]
    },
    {
      "cell_type": "markdown",
      "metadata": {
        "id": "m_loJXNeYuGT"
      },
      "source": [
        " - 0 - Female\n",
        " - 1 - Male"
      ]
    },
    {
      "cell_type": "markdown",
      "metadata": {
        "id": "3NWS3mh3XaUg"
      },
      "source": [
        "Finding maximum Purchase by Gender"
      ]
    },
    {
      "cell_type": "code",
      "metadata": {
        "id": "RuWYfMKt7qvC",
        "outputId": "25199717-9ae0-49d6-cfd7-10dfb9e5bfdf",
        "colab": {
          "base_uri": "https://localhost:8080/",
          "height": 85
        }
      },
      "source": [
        "df.groupby(df['Gender']).Purchase.max()"
      ],
      "execution_count": 231,
      "outputs": [
        {
          "output_type": "execute_result",
          "data": {
            "text/plain": [
              "Gender\n",
              "0    23959\n",
              "1    23961\n",
              "Name: Purchase, dtype: int64"
            ]
          },
          "metadata": {
            "tags": []
          },
          "execution_count": 231
        }
      ]
    },
    {
      "cell_type": "markdown",
      "metadata": {
        "id": "iiVoONA0Xfgo"
      },
      "source": [
        "Finding minimum Purchase by Gender"
      ]
    },
    {
      "cell_type": "code",
      "metadata": {
        "id": "GyS1vMVbWnlm",
        "outputId": "1a15a991-26a2-4710-b742-2be4cc2637a5",
        "colab": {
          "base_uri": "https://localhost:8080/",
          "height": 85
        }
      },
      "source": [
        "df.groupby(df['Gender']).Purchase.min()"
      ],
      "execution_count": 232,
      "outputs": [
        {
          "output_type": "execute_result",
          "data": {
            "text/plain": [
              "Gender\n",
              "0    12\n",
              "1    12\n",
              "Name: Purchase, dtype: int64"
            ]
          },
          "metadata": {
            "tags": []
          },
          "execution_count": 232
        }
      ]
    },
    {
      "cell_type": "markdown",
      "metadata": {
        "id": "k_qoDTaaYSZJ"
      },
      "source": [
        "Finding mean Purchase by Gender"
      ]
    },
    {
      "cell_type": "code",
      "metadata": {
        "id": "XRuxoS4nX0xp",
        "outputId": "1a76850e-b561-442b-cabd-c3ac7864f3b9",
        "colab": {
          "base_uri": "https://localhost:8080/",
          "height": 85
        }
      },
      "source": [
        "df.groupby(df['Gender']).Purchase.mean()"
      ],
      "execution_count": 233,
      "outputs": [
        {
          "output_type": "execute_result",
          "data": {
            "text/plain": [
              "Gender\n",
              "0    8734.565765\n",
              "1    9437.526040\n",
              "Name: Purchase, dtype: float64"
            ]
          },
          "metadata": {
            "tags": []
          },
          "execution_count": 233
        }
      ]
    },
    {
      "cell_type": "markdown",
      "metadata": {
        "id": "enUnIKy-aV_l"
      },
      "source": [
        "**Visualize Purchase by Gender**"
      ]
    },
    {
      "cell_type": "code",
      "metadata": {
        "id": "YsQS8eFran_w",
        "outputId": "e43be019-9b47-4741-d676-82cb624523e4",
        "colab": {
          "base_uri": "https://localhost:8080/",
          "height": 357
        }
      },
      "source": [
        "# Pie chart\n",
        "plt.figure( figsize=(5,5))\n",
        "plt.style.use('ggplot')\n",
        "\n",
        "size = df.Gender.value_counts()\n",
        "labels = ['Male', 'Female']\n",
        "plt.pie(x = size, explode = [0, 0.1], labels = labels, autopct = '%.2f', shadow=True)\n",
        "plt.title('Purchase comparison of Male and Female', color = 'black')\n",
        "plt.legend()"
      ],
      "execution_count": 234,
      "outputs": [
        {
          "output_type": "execute_result",
          "data": {
            "text/plain": [
              "<matplotlib.legend.Legend at 0x7fc3046a2d30>"
            ]
          },
          "metadata": {
            "tags": []
          },
          "execution_count": 234
        },
        {
          "output_type": "display_data",
          "data": {
            "image/png": "[encoded data removed]",
            "text/plain": [
              "<Figure size 360x360 with 1 Axes>"
            ]
          },
          "metadata": {
            "tags": []
          }
        }
      ]
    },
    {
      "cell_type": "markdown",
      "metadata": {
        "id": "-KiWD_xVYktQ"
      },
      "source": [
        "**Analyse Purchase by Age**"
      ]
    },
    {
      "cell_type": "markdown",
      "metadata": {
        "id": "fZKzCJrFYrya"
      },
      "source": [
        " - (0-17) - 1\n",
        " - (18-25) - 2\t\n",
        " - (26-35) - 3\n",
        " - (36-45) - 4\n",
        " - (46-50) - 5\n",
        " - (51-55) - 6\n",
        " - 55+ - 7"
      ]
    },
    {
      "cell_type": "code",
      "metadata": {
        "id": "S71JItQrYGGf",
        "outputId": "0032606a-615b-4487-bd03-b55f851512ed",
        "colab": {
          "base_uri": "https://localhost:8080/",
          "height": 171
        }
      },
      "source": [
        "df.groupby(df['Age']).Purchase.mean()"
      ],
      "execution_count": 235,
      "outputs": [
        {
          "output_type": "execute_result",
          "data": {
            "text/plain": [
              "Age\n",
              "1    8933.464640\n",
              "2    9169.663606\n",
              "3    9252.690633\n",
              "4    9331.350695\n",
              "5    9208.625697\n",
              "6    9534.808031\n",
              "7    9336.280459\n",
              "Name: Purchase, dtype: float64"
            ]
          },
          "metadata": {
            "tags": []
          },
          "execution_count": 235
        }
      ]
    },
    {
      "cell_type": "markdown",
      "metadata": {
        "id": "Nbxjl2CQXKhH"
      },
      "source": [
        "**Visualize Purchase by Age**"
      ]
    },
    {
      "cell_type": "code",
      "metadata": {
        "id": "AP51hp2XXQmC",
        "outputId": "bb8feb3a-0823-4260-a1d4-eeae6c100901",
        "colab": {
          "base_uri": "https://localhost:8080/",
          "height": 329
        }
      },
      "source": [
        "plt.style.use('ggplot')\n",
        "sns.countplot(data = df, x = df['Age'], palette = 'pastel')\n",
        "plt.title('Age distribution on Purchase')"
      ],
      "execution_count": 236,
      "outputs": [
        {
          "output_type": "execute_result",
          "data": {
            "text/plain": [
              "Text(0.5, 1.0, 'Age distribution on Purchase')"
            ]
          },
          "metadata": {
            "tags": []
          },
          "execution_count": 236
        },
        {
          "output_type": "display_data",
          "data": {
            "image/png": "[encoded data removed]",
            "text/plain": [
              "<Figure size 576x288 with 1 Axes>"
            ]
          },
          "metadata": {
            "tags": []
          }
        }
      ]
    },
    {
      "cell_type": "markdown",
      "metadata": {
        "id": "y4_vqq5gYqdu"
      },
      "source": [
        "**Analyze Purchase by City**"
      ]
    },
    {
      "cell_type": "markdown",
      "metadata": {
        "id": "-gCw8YlraGUl"
      },
      "source": [
        " - A - 0 0 \n",
        " - B - 0 1\n",
        " - C - 1 0"
      ]
    },
    {
      "cell_type": "code",
      "metadata": {
        "id": "_jN56qCYYfiD",
        "outputId": "ea76aa76-29e7-4327-f3fb-fa861a8d242a",
        "colab": {
          "base_uri": "https://localhost:8080/",
          "height": 102
        }
      },
      "source": [
        "df.groupby(by = ['City_Category']).Purchase.mean()"
      ],
      "execution_count": 237,
      "outputs": [
        {
          "output_type": "execute_result",
          "data": {
            "text/plain": [
              "City_Category\n",
              "A    8911.939216\n",
              "B    9151.300563\n",
              "C    9719.920993\n",
              "Name: Purchase, dtype: float64"
            ]
          },
          "metadata": {
            "tags": []
          },
          "execution_count": 237
        }
      ]
    },
    {
      "cell_type": "markdown",
      "metadata": {
        "id": "_WtkFuFIh80v"
      },
      "source": [
        "**Visualize Purchase by City**"
      ]
    },
    {
      "cell_type": "code",
      "metadata": {
        "id": "_igYo-Afdpcw",
        "outputId": "e94089da-c01d-4b1d-c7e4-fe73036de356",
        "colab": {
          "base_uri": "https://localhost:8080/",
          "height": 329
        }
      },
      "source": [
        "plt.style.use('ggplot')\n",
        "sns.countplot(data = df, x = df['City_Category'], palette = 'BuPu')\n",
        "plt.title('Customer Purchase distribution accross Cities')"
      ],
      "execution_count": 238,
      "outputs": [
        {
          "output_type": "execute_result",
          "data": {
            "text/plain": [
              "Text(0.5, 1.0, 'Customer Purchase distribution accross Cities')"
            ]
          },
          "metadata": {
            "tags": []
          },
          "execution_count": 238
        },
        {
          "output_type": "display_data",
          "data": {
            "image/png": "[encoded data removed]",
            "text/plain": [
              "<Figure size 576x288 with 1 Axes>"
            ]
          },
          "metadata": {
            "tags": []
          }
        }
      ]
    },
    {
      "cell_type": "markdown",
      "metadata": {
        "id": "P-FCp7VWZ2Xk"
      },
      "source": [
        "**Visualize Purchase by Occupation**"
      ]
    },
    {
      "cell_type": "code",
      "metadata": {
        "id": "8VCYR286b6fq",
        "outputId": "a40766f4-2cd2-4ccc-93b0-d08e1d51509a",
        "colab": {
          "base_uri": "https://localhost:8080/",
          "height": 329
        }
      },
      "source": [
        "plt.style.use('ggplot')\n",
        "sns.countplot(data = df, x = df['Occupation'], palette = 'magma')\n",
        "plt.title('Customer Occupation distribution on Purchase')"
      ],
      "execution_count": 239,
      "outputs": [
        {
          "output_type": "execute_result",
          "data": {
            "text/plain": [
              "Text(0.5, 1.0, 'Customer Occupation distribution on Purchase')"
            ]
          },
          "metadata": {
            "tags": []
          },
          "execution_count": 239
        },
        {
          "output_type": "display_data",
          "data": {
            "image/png": "[encoded data removed]",
            "text/plain": [
              "<Figure size 576x288 with 1 Axes>"
            ]
          },
          "metadata": {
            "tags": []
          }
        }
      ]
    },
    {
      "cell_type": "markdown",
      "metadata": {
        "id": "q1gN0meCjepT"
      },
      "source": [
        "**Visualize Purchase on Years of Stay**"
      ]
    },
    {
      "cell_type": "code",
      "metadata": {
        "id": "mIIzhvGpaD9Z",
        "outputId": "0744218c-43ee-4f43-a557-ad9b7acbcc39",
        "colab": {
          "base_uri": "https://localhost:8080/",
          "height": 329
        }
      },
      "source": [
        "plt.style.use('ggplot')\n",
        "sns.countplot(data = df, x = df['Stay'], palette = 'colorblind')\n",
        "plt.title('Customer Years of Stay distribution based on Purchase ')"
      ],
      "execution_count": 240,
      "outputs": [
        {
          "output_type": "execute_result",
          "data": {
            "text/plain": [
              "Text(0.5, 1.0, 'Customer Years of Stay distribution based on Purchase ')"
            ]
          },
          "metadata": {
            "tags": []
          },
          "execution_count": 240
        },
        {
          "output_type": "display_data",
          "data": {
            "image/png": "[encoded data removed]",
            "text/plain": [
              "<Figure size 576x288 with 1 Axes>"
            ]
          },
          "metadata": {
            "tags": []
          }
        }
      ]
    },
    {
      "cell_type": "markdown",
      "metadata": {
        "id": "BHJVW9NSkRzG"
      },
      "source": [
        "**Visualize the sales of different product category**"
      ]
    },
    {
      "cell_type": "code",
      "metadata": {
        "id": "hiZcqe-sciEQ",
        "outputId": "b45fa54b-095a-40a0-f3a6-df0ae2042524",
        "colab": {
          "base_uri": "https://localhost:8080/",
          "height": 953
        }
      },
      "source": [
        "plt.style.use('ggplot')\n",
        "plt.rcParams['figure.figsize'] = (10, 15)\n",
        "\n",
        "plt.subplot(3,1,1)\n",
        "sns.countplot(data = df, x = df['cat1'], palette = 'icefire_r')\n",
        "plt.title('Purchase of Product Category_1')\n",
        "\n",
        "plt.subplot(3,1,2)\n",
        "sns.countplot(data = df, x = df['cat2'], palette = 'coolwarm')\n",
        "plt.title('Purchase Purchase of Product Category_2')\n",
        "\n",
        "plt.subplot(3,1,3)\n",
        "sns.countplot(data = df, x = df['cat3'], palette = 'magma')\n",
        "plt.title('Purchase Purchase of Product Category_3')\n",
        "\n",
        "plt.show()"
      ],
      "execution_count": 241,
      "outputs": [
        {
          "output_type": "display_data",
          "data": {
            "image/png": "[encoded data removed]",
            "text/plain": [
              "<Figure size 720x1080 with 3 Axes>"
            ]
          },
          "metadata": {
            "tags": []
          }
        }
      ]
    },
    {
      "cell_type": "markdown",
      "metadata": {
        "id": "T-lJeXFYnfQ2"
      },
      "source": [
        "**Visualizing Target - Purchase**"
      ]
    },
    {
      "cell_type": "code",
      "metadata": {
        "id": "DNmUqhPYlXxC",
        "outputId": "91a43c7f-b5cf-455b-ff43-b281c0c48182",
        "colab": {
          "base_uri": "https://localhost:8080/",
          "height": 329
        }
      },
      "source": [
        "plt.style.use('ggplot')\n",
        "plt.rcParams['figure.figsize'] = (8,4)\n",
        "\n",
        "sns.distplot(df['Purchase'], color = 'purple')\n",
        "plt.title('Purchase distribution', color = 'black')"
      ],
      "execution_count": 242,
      "outputs": [
        {
          "output_type": "execute_result",
          "data": {
            "text/plain": [
              "Text(0.5, 1.0, 'Purchase distribution')"
            ]
          },
          "metadata": {
            "tags": []
          },
          "execution_count": 242
        },
        {
          "output_type": "display_data",
          "data": {
            "image/png": "[encoded data removed]",
            "text/plain": [
              "<Figure size 576x288 with 1 Axes>"
            ]
          },
          "metadata": {
            "tags": []
          }
        }
      ]
    },
    {
      "cell_type": "markdown",
      "metadata": {
        "id": "SXQ2-CY_rJoi"
      },
      "source": [
        "## PART - 4. Building Model"
      ]
    },
    {
      "cell_type": "code",
      "metadata": {
        "id": "ToND1cyzn54K",
        "outputId": "10f69cca-3bc4-4054-cb41-3c041fe4c044",
        "colab": {
          "base_uri": "https://localhost:8080/",
          "height": 199
        }
      },
      "source": [
        "# viewing df\n",
        "df.head()"
      ],
      "execution_count": 243,
      "outputs": [
        {
          "output_type": "execute_result",
          "data": {
            "text/html": [
              "<div>\n",
              "<style scoped>\n",
              "    .dataframe tbody tr th:only-of-type {\n",
              "        vertical-align: middle;\n",
              "    }\n",
              "\n",
              "    .dataframe tbody tr th {\n",
              "        vertical-align: top;\n",
              "    }\n",
              "\n",
              "    .dataframe thead th {\n",
              "        text-align: right;\n",
              "    }\n",
              "</style>\n",
              "<table border=\"1\" class=\"dataframe\">\n",
              "  <thead>\n",
              "    <tr style=\"text-align: right;\">\n",
              "      <th></th>\n",
              "      <th>Gender</th>\n",
              "      <th>Age</th>\n",
              "      <th>Occupation</th>\n",
              "      <th>City_Category</th>\n",
              "      <th>Stay</th>\n",
              "      <th>Marital_Status</th>\n",
              "      <th>cat1</th>\n",
              "      <th>cat2</th>\n",
              "      <th>cat3</th>\n",
              "      <th>Purchase</th>\n",
              "      <th>B</th>\n",
              "      <th>C</th>\n",
              "    </tr>\n",
              "  </thead>\n",
              "  <tbody>\n",
              "    <tr>\n",
              "      <th>0</th>\n",
              "      <td>0</td>\n",
              "      <td>1</td>\n",
              "      <td>10</td>\n",
              "      <td>A</td>\n",
              "      <td>2</td>\n",
              "      <td>0</td>\n",
              "      <td>3</td>\n",
              "      <td>8.0</td>\n",
              "      <td>16.0</td>\n",
              "      <td>8370</td>\n",
              "      <td>0</td>\n",
              "      <td>0</td>\n",
              "    </tr>\n",
              "    <tr>\n",
              "      <th>1</th>\n",
              "      <td>0</td>\n",
              "      <td>1</td>\n",
              "      <td>10</td>\n",
              "      <td>A</td>\n",
              "      <td>2</td>\n",
              "      <td>0</td>\n",
              "      <td>1</td>\n",
              "      <td>6.0</td>\n",
              "      <td>14.0</td>\n",
              "      <td>15200</td>\n",
              "      <td>0</td>\n",
              "      <td>0</td>\n",
              "    </tr>\n",
              "    <tr>\n",
              "      <th>2</th>\n",
              "      <td>0</td>\n",
              "      <td>1</td>\n",
              "      <td>10</td>\n",
              "      <td>A</td>\n",
              "      <td>2</td>\n",
              "      <td>0</td>\n",
              "      <td>12</td>\n",
              "      <td>8.0</td>\n",
              "      <td>16.0</td>\n",
              "      <td>1422</td>\n",
              "      <td>0</td>\n",
              "      <td>0</td>\n",
              "    </tr>\n",
              "    <tr>\n",
              "      <th>3</th>\n",
              "      <td>0</td>\n",
              "      <td>1</td>\n",
              "      <td>10</td>\n",
              "      <td>A</td>\n",
              "      <td>2</td>\n",
              "      <td>0</td>\n",
              "      <td>12</td>\n",
              "      <td>14.0</td>\n",
              "      <td>16.0</td>\n",
              "      <td>1057</td>\n",
              "      <td>0</td>\n",
              "      <td>0</td>\n",
              "    </tr>\n",
              "    <tr>\n",
              "      <th>4</th>\n",
              "      <td>1</td>\n",
              "      <td>7</td>\n",
              "      <td>16</td>\n",
              "      <td>C</td>\n",
              "      <td>4</td>\n",
              "      <td>0</td>\n",
              "      <td>8</td>\n",
              "      <td>8.0</td>\n",
              "      <td>16.0</td>\n",
              "      <td>7969</td>\n",
              "      <td>0</td>\n",
              "      <td>1</td>\n",
              "    </tr>\n",
              "  </tbody>\n",
              "</table>\n",
              "</div>"
            ],
            "text/plain": [
              "   Gender  Age  Occupation City_Category  Stay  ...  cat2  cat3  Purchase  B  C\n",
              "0       0    1          10             A     2  ...   8.0  16.0      8370  0  0\n",
              "1       0    1          10             A     2  ...   6.0  14.0     15200  0  0\n",
              "2       0    1          10             A     2  ...   8.0  16.0      1422  0  0\n",
              "3       0    1          10             A     2  ...  14.0  16.0      1057  0  0\n",
              "4       1    7          16             C     4  ...   8.0  16.0      7969  0  1\n",
              "\n",
              "[5 rows x 12 columns]"
            ]
          },
          "metadata": {
            "tags": []
          },
          "execution_count": 243
        }
      ]
    },
    {
      "cell_type": "code",
      "metadata": {
        "id": "F3Z0h030srvT"
      },
      "source": [
        "#drop City_Category\n",
        "df.drop(columns = 'City_Category', inplace = True)"
      ],
      "execution_count": 244,
      "outputs": []
    },
    {
      "cell_type": "markdown",
      "metadata": {
        "id": "-PbEVCYBs3U7"
      },
      "source": [
        "**Train - Test - Split**"
      ]
    },
    {
      "cell_type": "code",
      "metadata": {
        "id": "KUNhwetms1Zg"
      },
      "source": [
        "from sklearn.model_selection import train_test_split\n",
        "X = df.drop(columns = 'Purchase')\n",
        "y = df.Purchase\n",
        "\n",
        "X_train, X_test, y_train, y_test = train_test_split(X, y, random_state = 42, test_size = 0.2)"
      ],
      "execution_count": 245,
      "outputs": []
    },
    {
      "cell_type": "markdown",
      "metadata": {
        "id": "yRZvYnmWyM_F"
      },
      "source": [
        "**Linear Regression**"
      ]
    },
    {
      "cell_type": "code",
      "metadata": {
        "id": "3zO3TNjMwpbE",
        "outputId": "c7ede63d-7b51-4266-bd5d-1d35f8761941",
        "colab": {
          "base_uri": "https://localhost:8080/",
          "height": 34
        }
      },
      "source": [
        "from sklearn.linear_model import LinearRegression\n",
        "lr_model = LinearRegression()\n",
        "lr_model.fit(X_train, y_train)"
      ],
      "execution_count": 246,
      "outputs": [
        {
          "output_type": "execute_result",
          "data": {
            "text/plain": [
              "LinearRegression(copy_X=True, fit_intercept=True, n_jobs=None, normalize=False)"
            ]
          },
          "metadata": {
            "tags": []
          },
          "execution_count": 246
        }
      ]
    },
    {
      "cell_type": "code",
      "metadata": {
        "id": "tw1lV4y44Uy_"
      },
      "source": [
        "y_pred = lr_model.predict(X_test)"
      ],
      "execution_count": 247,
      "outputs": []
    },
    {
      "cell_type": "code",
      "metadata": {
        "id": "CNZjWRuo4a87"
      },
      "source": [
        "lr_r2 = r2_score(y_test, y_pred)\n",
        "lr_mae = mean_absolute_error(y_test, y_pred)\n",
        "lr_mse = mean_squared_error(y_test, y_pred)\n",
        "lr_rmse = np.sqrt(lr_mse)"
      ],
      "execution_count": 248,
      "outputs": []
    },
    {
      "cell_type": "markdown",
      "metadata": {
        "id": "_oSWhiMkyjJb"
      },
      "source": [
        "**Ridge Regressor**"
      ]
    },
    {
      "cell_type": "code",
      "metadata": {
        "id": "r8o9VrAPzNQ2",
        "outputId": "f25ce127-8b1c-4b10-a32a-a8a7ba5fce92",
        "colab": {
          "base_uri": "https://localhost:8080/",
          "height": 51
        }
      },
      "source": [
        "from sklearn.linear_model import Ridge\n",
        "ridge_model = Ridge()\n",
        "ridge_model.fit(X_train, y_train)"
      ],
      "execution_count": 249,
      "outputs": [
        {
          "output_type": "execute_result",
          "data": {
            "text/plain": [
              "Ridge(alpha=1.0, copy_X=True, fit_intercept=True, max_iter=None,\n",
              "      normalize=False, random_state=None, solver='auto', tol=0.001)"
            ]
          },
          "metadata": {
            "tags": []
          },
          "execution_count": 249
        }
      ]
    },
    {
      "cell_type": "code",
      "metadata": {
        "id": "B4cNFHE84b3Q"
      },
      "source": [
        "ridge_y_pred = ridge_model.predict(X_test)"
      ],
      "execution_count": 250,
      "outputs": []
    },
    {
      "cell_type": "code",
      "metadata": {
        "id": "dWV8sbjd4cIl"
      },
      "source": [
        "ridge_r2 = r2_score(y_test, ridge_y_pred)\n",
        "ridge_mae = mean_absolute_error(y_test, ridge_y_pred)\n",
        "ridge_mse = mean_squared_error(y_test, ridge_y_pred)\n",
        "ridge_rmse = np.sqrt(ridge_mse)"
      ],
      "execution_count": 251,
      "outputs": []
    },
    {
      "cell_type": "markdown",
      "metadata": {
        "id": "_W1dqhIyyWO_"
      },
      "source": [
        "**Lasso Regressor**"
      ]
    },
    {
      "cell_type": "code",
      "metadata": {
        "id": "mCSWJdT94cw5",
        "outputId": "056b9238-a3b5-4733-dcdf-9443f2d7c75c",
        "colab": {
          "base_uri": "https://localhost:8080/",
          "height": 68
        }
      },
      "source": [
        "from sklearn.linear_model import Lasso\n",
        "lasso_model = Lasso()\n",
        "lasso_model.fit(X_train, y_train)"
      ],
      "execution_count": 252,
      "outputs": [
        {
          "output_type": "execute_result",
          "data": {
            "text/plain": [
              "Lasso(alpha=1.0, copy_X=True, fit_intercept=True, max_iter=1000,\n",
              "      normalize=False, positive=False, precompute=False, random_state=None,\n",
              "      selection='cyclic', tol=0.0001, warm_start=False)"
            ]
          },
          "metadata": {
            "tags": []
          },
          "execution_count": 252
        }
      ]
    },
    {
      "cell_type": "code",
      "metadata": {
        "id": "QKQnXbCy4dLb"
      },
      "source": [
        "lasso_y_pred = lasso_model.predict(X_test)"
      ],
      "execution_count": 253,
      "outputs": []
    },
    {
      "cell_type": "code",
      "metadata": {
        "id": "F9ShpoUG4dgx"
      },
      "source": [
        "lasso_r2 = r2_score(y_test, lasso_y_pred)\n",
        "lasso_mae = mean_absolute_error(y_test, lasso_y_pred)\n",
        "lasso_mse = mean_squared_error(y_test, lasso_y_pred)\n",
        "lasso_rmse = np.sqrt(lasso_mse)"
      ],
      "execution_count": 254,
      "outputs": []
    },
    {
      "cell_type": "markdown",
      "metadata": {
        "id": "ibBcUOyLyVyV"
      },
      "source": [
        "**Elastic Regressor**"
      ]
    },
    {
      "cell_type": "code",
      "metadata": {
        "id": "hjMwCtCS6j_r",
        "outputId": "87c462b1-1a1a-4e5c-efed-86b752ff35fb",
        "colab": {
          "base_uri": "https://localhost:8080/",
          "height": 68
        }
      },
      "source": [
        "from sklearn.linear_model import ElasticNet\n",
        "elastic_model = ElasticNet()\n",
        "elastic_model.fit(X_train, y_train)"
      ],
      "execution_count": 255,
      "outputs": [
        {
          "output_type": "execute_result",
          "data": {
            "text/plain": [
              "ElasticNet(alpha=1.0, copy_X=True, fit_intercept=True, l1_ratio=0.5,\n",
              "           max_iter=1000, normalize=False, positive=False, precompute=False,\n",
              "           random_state=None, selection='cyclic', tol=0.0001, warm_start=False)"
            ]
          },
          "metadata": {
            "tags": []
          },
          "execution_count": 255
        }
      ]
    },
    {
      "cell_type": "code",
      "metadata": {
        "id": "QkuHiykr6qQd"
      },
      "source": [
        "elastic_y_pred = elastic_model.predict(X_test)"
      ],
      "execution_count": 256,
      "outputs": []
    },
    {
      "cell_type": "code",
      "metadata": {
        "id": "kjI9meDF6wa4"
      },
      "source": [
        "elastic_r2 = r2_score(y_test, elastic_y_pred)\n",
        "elastic_mae = mean_absolute_error(y_test, elastic_y_pred)\n",
        "elastic_mse = mean_squared_error(y_test, elastic_y_pred)\n",
        "elastic_rmse = np.sqrt(elastic_mse)"
      ],
      "execution_count": 257,
      "outputs": []
    },
    {
      "cell_type": "markdown",
      "metadata": {
        "id": "BQD3cMWGyUTN"
      },
      "source": [
        "**DecissionTreeRegressor**"
      ]
    },
    {
      "cell_type": "code",
      "metadata": {
        "id": "FJjOH7a66lAO",
        "outputId": "1d8deb6c-a1ad-4ac3-8e19-dbdf1d91bb78",
        "colab": {
          "base_uri": "https://localhost:8080/",
          "height": 119
        }
      },
      "source": [
        "from sklearn.tree import DecisionTreeRegressor\n",
        "dt_model = DecisionTreeRegressor()\n",
        "dt_model.fit(X_train, y_train)"
      ],
      "execution_count": 258,
      "outputs": [
        {
          "output_type": "execute_result",
          "data": {
            "text/plain": [
              "DecisionTreeRegressor(ccp_alpha=0.0, criterion='mse', max_depth=None,\n",
              "                      max_features=None, max_leaf_nodes=None,\n",
              "                      min_impurity_decrease=0.0, min_impurity_split=None,\n",
              "                      min_samples_leaf=1, min_samples_split=2,\n",
              "                      min_weight_fraction_leaf=0.0, presort='deprecated',\n",
              "                      random_state=None, splitter='best')"
            ]
          },
          "metadata": {
            "tags": []
          },
          "execution_count": 258
        }
      ]
    },
    {
      "cell_type": "code",
      "metadata": {
        "id": "unLVpc5v6rAd"
      },
      "source": [
        "dt_y_pred = dt_model.predict(X_test)"
      ],
      "execution_count": 259,
      "outputs": []
    },
    {
      "cell_type": "code",
      "metadata": {
        "id": "bvNLdt5Q6xDe"
      },
      "source": [
        "dt_r2 = r2_score(y_test, dt_y_pred)\n",
        "dt_mae = mean_absolute_error(y_test, dt_y_pred)\n",
        "dt_mse = mean_squared_error(y_test, dt_y_pred)\n",
        "dt_rmse = np.sqrt(dt_mse)"
      ],
      "execution_count": 260,
      "outputs": []
    },
    {
      "cell_type": "markdown",
      "metadata": {
        "id": "hMeNwafuyU2t"
      },
      "source": [
        "**Random Forest Resgressor**"
      ]
    },
    {
      "cell_type": "code",
      "metadata": {
        "id": "AEsexuLp6mbv",
        "outputId": "c8b6bcca-0baa-468b-a495-693e17d1115f",
        "colab": {
          "base_uri": "https://localhost:8080/",
          "height": 136
        }
      },
      "source": [
        "from sklearn.ensemble import RandomForestRegressor\n",
        "rf_model = RandomForestRegressor()\n",
        "rf_model.fit(X_train, y_train)"
      ],
      "execution_count": 261,
      "outputs": [
        {
          "output_type": "execute_result",
          "data": {
            "text/plain": [
              "RandomForestRegressor(bootstrap=True, ccp_alpha=0.0, criterion='mse',\n",
              "                      max_depth=None, max_features='auto', max_leaf_nodes=None,\n",
              "                      max_samples=None, min_impurity_decrease=0.0,\n",
              "                      min_impurity_split=None, min_samples_leaf=1,\n",
              "                      min_samples_split=2, min_weight_fraction_leaf=0.0,\n",
              "                      n_estimators=100, n_jobs=None, oob_score=False,\n",
              "                      random_state=None, verbose=0, warm_start=False)"
            ]
          },
          "metadata": {
            "tags": []
          },
          "execution_count": 261
        }
      ]
    },
    {
      "cell_type": "code",
      "metadata": {
        "id": "eUe52EMh6rvI"
      },
      "source": [
        "rf_y_pred = rf_model.predict(X_test)"
      ],
      "execution_count": 262,
      "outputs": []
    },
    {
      "cell_type": "code",
      "metadata": {
        "id": "iB949wpg6yDY"
      },
      "source": [
        "rf_r2 = r2_score(y_test, rf_y_pred)\n",
        "rf_mae = mean_absolute_error(y_test, rf_y_pred)\n",
        "rf_mse = mean_squared_error(y_test, rf_y_pred)\n",
        "rf_rmse = np.sqrt(rf_mse)"
      ],
      "execution_count": 263,
      "outputs": []
    },
    {
      "cell_type": "markdown",
      "metadata": {
        "id": "7-BW3t21y5jT"
      },
      "source": [
        "**Gradient Booster Regressor**"
      ]
    },
    {
      "cell_type": "code",
      "metadata": {
        "id": "Cr-5s935y3va",
        "outputId": "5bee1787-25dd-4ce4-874c-898d8a65a951",
        "colab": {
          "base_uri": "https://localhost:8080/",
          "height": 171
        }
      },
      "source": [
        "from sklearn.ensemble import GradientBoostingRegressor\n",
        "gb_model = GradientBoostingRegressor()\n",
        "gb_model.fit(X_train, y_train)"
      ],
      "execution_count": 264,
      "outputs": [
        {
          "output_type": "execute_result",
          "data": {
            "text/plain": [
              "GradientBoostingRegressor(alpha=0.9, ccp_alpha=0.0, criterion='friedman_mse',\n",
              "                          init=None, learning_rate=0.1, loss='ls', max_depth=3,\n",
              "                          max_features=None, max_leaf_nodes=None,\n",
              "                          min_impurity_decrease=0.0, min_impurity_split=None,\n",
              "                          min_samples_leaf=1, min_samples_split=2,\n",
              "                          min_weight_fraction_leaf=0.0, n_estimators=100,\n",
              "                          n_iter_no_change=None, presort='deprecated',\n",
              "                          random_state=None, subsample=1.0, tol=0.0001,\n",
              "                          validation_fraction=0.1, verbose=0, warm_start=False)"
            ]
          },
          "metadata": {
            "tags": []
          },
          "execution_count": 264
        }
      ]
    },
    {
      "cell_type": "code",
      "metadata": {
        "id": "5MgH-gEh6nP8"
      },
      "source": [
        "gb_y_pred = gb_model.predict(X_test)"
      ],
      "execution_count": 265,
      "outputs": []
    },
    {
      "cell_type": "code",
      "metadata": {
        "id": "yJiQ3jcV6y5y"
      },
      "source": [
        "gb_r2 = r2_score(y_test, gb_y_pred)\n",
        "gb_mae = mean_absolute_error(y_test, gb_y_pred)\n",
        "gb_mse = mean_squared_error(y_test, gb_y_pred)\n",
        "gb_rmse = np.sqrt(gb_mse)"
      ],
      "execution_count": 266,
      "outputs": []
    },
    {
      "cell_type": "markdown",
      "metadata": {
        "id": "AM2agFMqy73R"
      },
      "source": [
        "## PART - 5. Evaluation of Models"
      ]
    },
    {
      "cell_type": "code",
      "metadata": {
        "id": "861u9VKzzDds",
        "outputId": "b42d13ad-b97f-493d-8095-05e5552c53b1",
        "colab": {
          "base_uri": "https://localhost:8080/",
          "height": 169
        }
      },
      "source": [
        "r2 = [lr_r2, ridge_r2, lasso_r2, elastic_r2, dt_r2, rf_r2, gb_r2] \n",
        "mae = [lr_mae, ridge_mae, lasso_mae, elastic_mae, dt_mae, rf_mae, gb_mae]\n",
        "mse = [lr_mse, ridge_mse, lasso_mse, elastic_mse, dt_mse, rf_mse, gb_mse]\n",
        "rmse = [lr_rmse, ridge_rmse, lasso_rmse, elastic_rmse, dt_rmse, rf_rmse, gb_rmse]\n",
        "metrics_df = pd.DataFrame(data = [r2, mae, mse, rmse] , index = ['R2_Score', 'MAE', 'MSE', 'RMSE'], columns = ['Linear', 'Ridge', 'Lasso', 'ElasticNet', 'DecissionTreeReg', 'RandomForestReg', 'GBRegressor',])\n",
        "metrics_df.round(2)"
      ],
      "execution_count": 267,
      "outputs": [
        {
          "output_type": "execute_result",
          "data": {
            "text/html": [
              "<div>\n",
              "<style scoped>\n",
              "    .dataframe tbody tr th:only-of-type {\n",
              "        vertical-align: middle;\n",
              "    }\n",
              "\n",
              "    .dataframe tbody tr th {\n",
              "        vertical-align: top;\n",
              "    }\n",
              "\n",
              "    .dataframe thead th {\n",
              "        text-align: right;\n",
              "    }\n",
              "</style>\n",
              "<table border=\"1\" class=\"dataframe\">\n",
              "  <thead>\n",
              "    <tr style=\"text-align: right;\">\n",
              "      <th></th>\n",
              "      <th>Linear</th>\n",
              "      <th>Ridge</th>\n",
              "      <th>Lasso</th>\n",
              "      <th>ElasticNet</th>\n",
              "      <th>DecissionTreeReg</th>\n",
              "      <th>RandomForestReg</th>\n",
              "      <th>GBRegressor</th>\n",
              "    </tr>\n",
              "  </thead>\n",
              "  <tbody>\n",
              "    <tr>\n",
              "      <th>R2_Score</th>\n",
              "      <td>0.13</td>\n",
              "      <td>0.13</td>\n",
              "      <td>0.13</td>\n",
              "      <td>0.13</td>\n",
              "      <td>0.56</td>\n",
              "      <td>0.63</td>\n",
              "      <td>0.64</td>\n",
              "    </tr>\n",
              "    <tr>\n",
              "      <th>MAE</th>\n",
              "      <td>3575.52</td>\n",
              "      <td>3575.52</td>\n",
              "      <td>3575.42</td>\n",
              "      <td>3584.19</td>\n",
              "      <td>2346.16</td>\n",
              "      <td>2222.02</td>\n",
              "      <td>2269.28</td>\n",
              "    </tr>\n",
              "    <tr>\n",
              "      <th>MSE</th>\n",
              "      <td>21849890.00</td>\n",
              "      <td>21849890.09</td>\n",
              "      <td>21850008.02</td>\n",
              "      <td>21920190.42</td>\n",
              "      <td>10942742.85</td>\n",
              "      <td>9311761.87</td>\n",
              "      <td>8981901.57</td>\n",
              "    </tr>\n",
              "    <tr>\n",
              "      <th>RMSE</th>\n",
              "      <td>4674.39</td>\n",
              "      <td>4674.39</td>\n",
              "      <td>4674.40</td>\n",
              "      <td>4681.90</td>\n",
              "      <td>3307.98</td>\n",
              "      <td>3051.52</td>\n",
              "      <td>2996.98</td>\n",
              "    </tr>\n",
              "  </tbody>\n",
              "</table>\n",
              "</div>"
            ],
            "text/plain": [
              "               Linear        Ridge  ...  RandomForestReg  GBRegressor\n",
              "R2_Score         0.13         0.13  ...             0.63         0.64\n",
              "MAE           3575.52      3575.52  ...          2222.02      2269.28\n",
              "MSE       21849890.00  21849890.09  ...       9311761.87   8981901.57\n",
              "RMSE          4674.39      4674.39  ...          3051.52      2996.98\n",
              "\n",
              "[4 rows x 7 columns]"
            ]
          },
          "metadata": {
            "tags": []
          },
          "execution_count": 267
        }
      ]
    }
  ]
}